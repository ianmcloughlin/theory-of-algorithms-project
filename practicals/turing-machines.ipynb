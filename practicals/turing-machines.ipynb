{
 "cells": [
  {
   "cell_type": "code",
   "execution_count": 1,
   "metadata": {},
   "outputs": [],
   "source": [
    "# The Turing Machine tape.\n",
    "tape = list(\"110\")\n",
    "\n",
    "# Position on the tape.\n",
    "pos = 0"
   ]
  },
  {
   "cell_type": "code",
   "execution_count": 2,
   "metadata": {},
   "outputs": [
    {
     "name": "stdout",
     "output_type": "stream",
     "text": [
      "\"110\", 0\n"
     ]
    }
   ],
   "source": [
    "# Show tape and position.\n",
    "print(f'\"{\"\".join(tape)}\", {pos}')"
   ]
  },
  {
   "cell_type": "code",
   "execution_count": 3,
   "metadata": {},
   "outputs": [],
   "source": [
    "# Moving position left on the tape.\n",
    "def move_L():\n",
    "  global tape, pos\n",
    "  if pos > 0:\n",
    "    pos = pos - 1\n",
    "  else:\n",
    "    tape = [' '] + tape"
   ]
  },
  {
   "cell_type": "code",
   "execution_count": 4,
   "metadata": {},
   "outputs": [],
   "source": [
    "move_L()"
   ]
  },
  {
   "cell_type": "code",
   "execution_count": 5,
   "metadata": {},
   "outputs": [
    {
     "name": "stdout",
     "output_type": "stream",
     "text": [
      "\" 110\", 0\n"
     ]
    }
   ],
   "source": [
    "# Show tape and position.\n",
    "print(f'\"{\"\".join(tape)}\", {pos}')"
   ]
  },
  {
   "cell_type": "code",
   "execution_count": 6,
   "metadata": {},
   "outputs": [],
   "source": [
    "# Moving position right on the tape.\n",
    "def move_R():\n",
    "  global tape, pos\n",
    "  if pos >= len(tape):\n",
    "    tape = tape + ' '\n",
    "  pos = pos + 1"
   ]
  },
  {
   "cell_type": "code",
   "execution_count": 7,
   "metadata": {},
   "outputs": [],
   "source": [
    "move_R()"
   ]
  },
  {
   "cell_type": "code",
   "execution_count": 8,
   "metadata": {},
   "outputs": [
    {
     "name": "stdout",
     "output_type": "stream",
     "text": [
      "\" 110\", 1\n"
     ]
    }
   ],
   "source": [
    "# Show tape and position.\n",
    "print(f'\"{\"\".join(tape)}\", {pos}')"
   ]
  },
  {
   "cell_type": "code",
   "execution_count": 9,
   "metadata": {},
   "outputs": [],
   "source": [
    "# Helps us to make code look nicer.\n",
    "L, R = 'L', 'R'\n",
    "\n",
    "# States.\n",
    "q0, q1, q2, q3 = 'q0', 'q1', 'q2', 'q3'\n",
    "\n",
    "# Accept and fail states.\n",
    "qa, qf = 'qa', 'qf'\n",
    "\n",
    "# Blank symbol.\n",
    "B = ' '"
   ]
  },
  {
   "cell_type": "code",
   "execution_count": 10,
   "metadata": {},
   "outputs": [],
   "source": [
    "table = {\n",
    "  (q0, 0): (0, R, q0),\n",
    "  (q0, 1): (1, R, q1),\n",
    "  (q0, B): (B, R, qa),\n",
    "  (q1, 0): (0, R, q0),\n",
    "  (q1, 1): (1, R, q1),\n",
    "  (q1, B): (B, R, qf),\n",
    "}"
   ]
  },
  {
   "cell_type": "code",
   "execution_count": null,
   "metadata": {},
   "outputs": [],
   "source": []
  }
 ],
 "metadata": {
  "kernelspec": {
   "display_name": "base",
   "language": "python",
   "name": "python3"
  },
  "language_info": {
   "codemirror_mode": {
    "name": "ipython",
    "version": 3
   },
   "file_extension": ".py",
   "mimetype": "text/x-python",
   "name": "python",
   "nbconvert_exporter": "python",
   "pygments_lexer": "ipython3",
   "version": "3.9.16"
  },
  "orig_nbformat": 4,
  "vscode": {
   "interpreter": {
    "hash": "3e79c20a1705e9a6a3a3347445ac3a1e4e143f46cf224064d059451a6bb29a0b"
   }
  }
 },
 "nbformat": 4,
 "nbformat_minor": 2
}
