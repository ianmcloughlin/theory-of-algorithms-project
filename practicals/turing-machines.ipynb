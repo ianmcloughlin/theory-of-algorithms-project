{
 "cells": [
  {
   "cell_type": "code",
   "execution_count": 39,
   "metadata": {},
   "outputs": [
    {
     "data": {
      "text/plain": [
       "['0', '0', '0', '1', '1', '1']"
      ]
     },
     "execution_count": 39,
     "metadata": {},
     "output_type": "execute_result"
    }
   ],
   "source": [
    "# The Turing Machine tape.\n",
    "tape = list(\"000111\")\n",
    "\n",
    "# Show the tape as it now is.\n",
    "tape"
   ]
  },
  {
   "cell_type": "code",
   "execution_count": 40,
   "metadata": {},
   "outputs": [
    {
     "data": {
      "text/plain": [
       "0"
      ]
     },
     "execution_count": 40,
     "metadata": {},
     "output_type": "execute_result"
    }
   ],
   "source": [
    "# Position on the tape.\n",
    "pos = 0\n",
    "\n",
    "# Show the value.\n",
    "pos"
   ]
  },
  {
   "cell_type": "code",
   "execution_count": 41,
   "metadata": {},
   "outputs": [
    {
     "name": "stdout",
     "output_type": "stream",
     "text": [
      "\"000111\", 0\n"
     ]
    }
   ],
   "source": [
    "# Show tape and position.\n",
    "print(f'\"{\"\".join(tape)}\", {pos}')"
   ]
  },
  {
   "cell_type": "code",
   "execution_count": 42,
   "metadata": {},
   "outputs": [],
   "source": [
    "# Moving position left on the tape.\n",
    "def move_L():\n",
    "  global tape, pos\n",
    "  if pos > 0:\n",
    "    pos = pos - 1\n",
    "  else:\n",
    "    tape = ['_'] + tape"
   ]
  },
  {
   "cell_type": "code",
   "execution_count": 43,
   "metadata": {},
   "outputs": [],
   "source": [
    "move_L()"
   ]
  },
  {
   "cell_type": "code",
   "execution_count": 44,
   "metadata": {},
   "outputs": [
    {
     "name": "stdout",
     "output_type": "stream",
     "text": [
      "\"_000111\", 0\n"
     ]
    }
   ],
   "source": [
    "# Show tape and position.\n",
    "print(f'\"{\"\".join(tape)}\", {pos}')"
   ]
  },
  {
   "cell_type": "code",
   "execution_count": 45,
   "metadata": {},
   "outputs": [],
   "source": [
    "# Moving position right on the tape.\n",
    "def move_R():\n",
    "  global tape, pos\n",
    "  pos = pos + 1\n",
    "  if pos >= len(tape):\n",
    "    tape = tape + ['_']"
   ]
  },
  {
   "cell_type": "code",
   "execution_count": 46,
   "metadata": {},
   "outputs": [],
   "source": [
    "move_R()"
   ]
  },
  {
   "cell_type": "code",
   "execution_count": 47,
   "metadata": {},
   "outputs": [
    {
     "name": "stdout",
     "output_type": "stream",
     "text": [
      "\"_000111\", 1\n"
     ]
    }
   ],
   "source": [
    "# Show tape and position.\n",
    "print(f'\"{\"\".join(tape)}\", {pos}')"
   ]
  },
  {
   "cell_type": "code",
   "execution_count": 68,
   "metadata": {},
   "outputs": [],
   "source": [
    "# A Turing Machine State Table Example.\n",
    "table = {\n",
    "  ('s', '0'): ('0', 'R', 's'),\n",
    "  ('s', '1'): ('1', 'R', 't'),\n",
    "  ('s', '_'): ('_', 'R', 'a'),\n",
    "  ('t', '0'): ('0', 'R', 't'),\n",
    "  ('t', '1'): ('1', 'R', 's'),\n",
    "  ('t', '_'): ('_', 'R', 'f'),\n",
    "}"
   ]
  },
  {
   "cell_type": "code",
   "execution_count": 69,
   "metadata": {},
   "outputs": [
    {
     "data": {
      "text/plain": [
       "'s'"
      ]
     },
     "execution_count": 69,
     "metadata": {},
     "output_type": "execute_result"
    }
   ],
   "source": [
    "# Start state.\n",
    "state = 's'\n",
    "\n",
    "# Show state.\n",
    "state"
   ]
  },
  {
   "cell_type": "code",
   "execution_count": 70,
   "metadata": {},
   "outputs": [
    {
     "data": {
      "text/plain": [
       "'0'"
      ]
     },
     "execution_count": 70,
     "metadata": {},
     "output_type": "execute_result"
    }
   ],
   "source": [
    "# Symbol in current cell on tape.\n",
    "tape[pos]"
   ]
  },
  {
   "cell_type": "code",
   "execution_count": 71,
   "metadata": {},
   "outputs": [
    {
     "data": {
      "text/plain": [
       "('0', 'R', 's')"
      ]
     },
     "execution_count": 71,
     "metadata": {},
     "output_type": "execute_result"
    }
   ],
   "source": [
    "table[(state, tape[pos])]"
   ]
  },
  {
   "cell_type": "code",
   "execution_count": 86,
   "metadata": {},
   "outputs": [],
   "source": [
    "def run_turing_machine(table, tape, state):\n",
    "  # Strings are immutable.\n",
    "  tape = list(tape)\n",
    "  # Check for empty string.\n",
    "  tape = tape + ['_']\n",
    "  # Start at position 0.\n",
    "  pos = 0\n",
    "  # Show tape and state.\n",
    "  output = ''.join(tape)\n",
    "  output = output[:pos] + state + output[pos:]\n",
    "  print(output)\n",
    "  # Keep looping unless we enter qa or qf.\n",
    "  while state not in {'a', 'f'}:\n",
    "    # Look up the table for current state/symbol.\n",
    "    overwrite, move, nextstate = table[(state, tape[pos])]\n",
    "    # Overwrite the current cell.\n",
    "    tape[pos] = overwrite\n",
    "    # Move in the correct direction.\n",
    "    if move == L:\n",
    "      if pos > 0:\n",
    "        pos = pos - 1\n",
    "      else:\n",
    "        tape = ['_'] + tape\n",
    "    else:\n",
    "        pos = pos + 1\n",
    "        if pos >= len(tape):\n",
    "          tape = tape + ['_']\n",
    "    # Change to next state.\n",
    "    state = nextstate\n",
    "    # Show tape and state.\n",
    "    output = ''.join(tape)\n",
    "    output = output[:pos] + state + output[pos:]\n",
    "    print(output)\n",
    "  # Check the state.\n",
    "  if state == 'a':\n",
    "    return True\n",
    "  else:\n",
    "    return False\n"
   ]
  },
  {
   "cell_type": "code",
   "execution_count": 87,
   "metadata": {},
   "outputs": [
    {
     "name": "stdout",
     "output_type": "stream",
     "text": [
      "s01111_\n",
      "0s1111_\n",
      "01t111_\n",
      "011s11_\n",
      "0111t1_\n",
      "01111s_\n",
      "01111_a_\n"
     ]
    },
    {
     "data": {
      "text/plain": [
       "True"
      ]
     },
     "execution_count": 87,
     "metadata": {},
     "output_type": "execute_result"
    }
   ],
   "source": [
    "# Try an example.\n",
    "run_turing_machine(table, '01111', 's')"
   ]
  },
  {
   "cell_type": "code",
   "execution_count": null,
   "metadata": {},
   "outputs": [],
   "source": []
  }
 ],
 "metadata": {
  "kernelspec": {
   "display_name": "Python 3",
   "language": "python",
   "name": "python3"
  },
  "language_info": {
   "codemirror_mode": {
    "name": "ipython",
    "version": 3
   },
   "file_extension": ".py",
   "mimetype": "text/x-python",
   "name": "python",
   "nbconvert_exporter": "python",
   "pygments_lexer": "ipython3",
   "version": "3.10.10"
  },
  "orig_nbformat": 4,
  "vscode": {
   "interpreter": {
    "hash": "bd385fe162c5ca0c84973b7dd5c518456272446b2b64e67c2a69f949ca7a1754"
   }
  }
 },
 "nbformat": 4,
 "nbformat_minor": 2
}
