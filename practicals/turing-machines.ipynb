{
 "cells": [
  {
   "cell_type": "code",
   "execution_count": 1,
   "metadata": {},
   "outputs": [
    {
     "data": {
      "text/plain": [
       "['0', '0', '0', '1', '1', '1']"
      ]
     },
     "execution_count": 1,
     "metadata": {},
     "output_type": "execute_result"
    }
   ],
   "source": [
    "# The Turing Machine tape.\n",
    "tape = list(\"000111\")\n",
    "\n",
    "# Show the tape as it now is.\n",
    "tape"
   ]
  },
  {
   "cell_type": "code",
   "execution_count": 2,
   "metadata": {},
   "outputs": [
    {
     "data": {
      "text/plain": [
       "0"
      ]
     },
     "execution_count": 2,
     "metadata": {},
     "output_type": "execute_result"
    }
   ],
   "source": [
    "# Position on the tape.\n",
    "pos = 0\n",
    "\n",
    "# Show the value.\n",
    "pos"
   ]
  },
  {
   "cell_type": "code",
   "execution_count": 3,
   "metadata": {},
   "outputs": [
    {
     "name": "stdout",
     "output_type": "stream",
     "text": [
      "\"000111\", 0\n"
     ]
    }
   ],
   "source": [
    "# Show tape and position.\n",
    "print(f'\"{\"\".join(tape)}\", {pos}')"
   ]
  },
  {
   "cell_type": "code",
   "execution_count": 4,
   "metadata": {},
   "outputs": [],
   "source": [
    "# Moving position left on the tape.\n",
    "def move_L():\n",
    "  global tape, pos\n",
    "  if pos > 0:\n",
    "    pos = pos - 1\n",
    "  else:\n",
    "    tape = ['_'] + tape"
   ]
  },
  {
   "cell_type": "code",
   "execution_count": 5,
   "metadata": {},
   "outputs": [],
   "source": [
    "move_L()"
   ]
  },
  {
   "cell_type": "code",
   "execution_count": 6,
   "metadata": {},
   "outputs": [
    {
     "name": "stdout",
     "output_type": "stream",
     "text": [
      "\"_000111\", 0\n"
     ]
    }
   ],
   "source": [
    "# Show tape and position.\n",
    "print(f'\"{\"\".join(tape)}\", {pos}')"
   ]
  },
  {
   "cell_type": "code",
   "execution_count": 7,
   "metadata": {},
   "outputs": [],
   "source": [
    "# Moving position right on the tape.\n",
    "def move_R():\n",
    "  global tape, pos\n",
    "  pos = pos + 1\n",
    "  if pos >= len(tape):\n",
    "    tape = tape + ['_']"
   ]
  },
  {
   "cell_type": "code",
   "execution_count": 8,
   "metadata": {},
   "outputs": [],
   "source": [
    "move_R()"
   ]
  },
  {
   "cell_type": "code",
   "execution_count": 9,
   "metadata": {},
   "outputs": [
    {
     "name": "stdout",
     "output_type": "stream",
     "text": [
      "\"_000111\", 1\n"
     ]
    }
   ],
   "source": [
    "# Show tape and position.\n",
    "print(f'\"{\"\".join(tape)}\", {pos}')"
   ]
  },
  {
   "cell_type": "code",
   "execution_count": 10,
   "metadata": {},
   "outputs": [],
   "source": [
    "# A Turing Machine State Table Example.\n",
    "table = {\n",
    "  ('s', '0'): ('0', 'R', 's'),\n",
    "  ('s', '1'): ('1', 'R', 't'),\n",
    "  ('s', '_'): ('_', 'R', 'a'),\n",
    "  ('t', '0'): ('0', 'R', 't'),\n",
    "  ('t', '1'): ('1', 'R', 's'),\n",
    "  ('t', '_'): ('_', 'R', 'f'),\n",
    "}"
   ]
  },
  {
   "cell_type": "code",
   "execution_count": 11,
   "metadata": {},
   "outputs": [
    {
     "data": {
      "text/plain": [
       "'s'"
      ]
     },
     "execution_count": 11,
     "metadata": {},
     "output_type": "execute_result"
    }
   ],
   "source": [
    "# Start state.\n",
    "state = 's'\n",
    "\n",
    "# Show state.\n",
    "state"
   ]
  },
  {
   "cell_type": "code",
   "execution_count": 12,
   "metadata": {},
   "outputs": [
    {
     "data": {
      "text/plain": [
       "'0'"
      ]
     },
     "execution_count": 12,
     "metadata": {},
     "output_type": "execute_result"
    }
   ],
   "source": [
    "# Symbol in current cell on tape.\n",
    "tape[pos]"
   ]
  },
  {
   "cell_type": "code",
   "execution_count": 13,
   "metadata": {},
   "outputs": [
    {
     "data": {
      "text/plain": [
       "('0', 'R', 's')"
      ]
     },
     "execution_count": 13,
     "metadata": {},
     "output_type": "execute_result"
    }
   ],
   "source": [
    "table[(state, tape[pos])]"
   ]
  },
  {
   "cell_type": "code",
   "execution_count": 24,
   "metadata": {},
   "outputs": [],
   "source": [
    "def run_turing_machine(table, tape, state):\n",
    "  # Keep track of the length of the input.\n",
    "  len_tape = len(tape)\n",
    "  # Keep track of the number of times we look up the state table.\n",
    "  no_lookups = 0\n",
    "  # Strings are immutable.\n",
    "  tape = list(tape)\n",
    "  # Check for empty string.\n",
    "  tape = tape + ['_']\n",
    "  # Start at position 0.\n",
    "  pos = 0\n",
    "  # Show tape and state.\n",
    "  output = ''.join(tape)\n",
    "  output = output[:pos] + state + output[pos:]\n",
    "  print(output)\n",
    "  # Keep looping unless we enter qa or qf.\n",
    "  while state not in {'a', 'f'}:\n",
    "    # Add one to the lokpu counter.\n",
    "    no_lookups = no_lookups + 1\n",
    "    # Look up the table for current state/symbol.\n",
    "    overwrite, move, nextstate = table[(state, tape[pos])]\n",
    "    # Overwrite the current cell.\n",
    "    tape[pos] = overwrite\n",
    "    # Move in the correct direction.\n",
    "    if move == 'L':\n",
    "      if pos > 0:\n",
    "        pos = pos - 1\n",
    "      else:\n",
    "        tape = ['_'] + tape\n",
    "    else:\n",
    "      pos = pos + 1\n",
    "      if pos >= len(tape):\n",
    "        tape = tape + ['_']\n",
    "    # Change to next state.\n",
    "    state = nextstate\n",
    "    # Show tape and state.\n",
    "    output = ''.join(tape)\n",
    "    output = output[:pos] + state + output[pos:]\n",
    "    print(output)\n",
    "  # Show length of input and number of steps.\n",
    "  print(f'Input Length: {len_tape}, Steps: {no_lookups}')\n",
    "  # Check the state.\n",
    "  if state == 'a':\n",
    "    return True\n",
    "  else:\n",
    "    return False\n"
   ]
  },
  {
   "cell_type": "code",
   "execution_count": 25,
   "metadata": {},
   "outputs": [
    {
     "name": "stdout",
     "output_type": "stream",
     "text": [
      "s10101_\n",
      "1t0101_\n",
      "10t101_\n",
      "101s01_\n",
      "1010s1_\n",
      "10101t_\n",
      "10101_f_\n",
      "Input Length: 5, Steps: 6\n"
     ]
    },
    {
     "data": {
      "text/plain": [
       "False"
      ]
     },
     "execution_count": 25,
     "metadata": {},
     "output_type": "execute_result"
    }
   ],
   "source": [
    "# Try an example.\n",
    "run_turing_machine(table, '10101', 's')"
   ]
  },
  {
   "attachments": {},
   "cell_type": "markdown",
   "metadata": {},
   "source": [
    "$A^* = \\{0,1\\}^* = \\{\\epsilon, 0, 1, 00, 01, \\ldots \\}$\n",
    "\n",
    "$L = \\{0^k 1^k | k \\in \\mathbb{N}_0 \\}$\n",
    "\n",
    "$L = \\{\\epsilon, 01, 0011, 000111, \\ldots \\}$"
   ]
  },
  {
   "cell_type": "code",
   "execution_count": 33,
   "metadata": {},
   "outputs": [],
   "source": [
    "# Turing Machine to recognize L.\n",
    "table = {\n",
    "\t# Delete a 0 at the front\n",
    "\t('s', '0'): ('_', 'R', 't'),\n",
    "\t('s', '1'): ('1', 'R', 'f'),\n",
    "\t('s', '_'): ('_', 'R', 'a'),\n",
    "  # Move to the end.\n",
    "\t('t', '0'): ('0', 'R', 't'),\n",
    "\t('t', '1'): ('1', 'R', 't'),\n",
    "\t('t', '_'): ('_', 'L', 'u'),\n",
    "  # Delete a 1 at the end.\n",
    "\t('u', '0'): ('0', 'L', 'f'),\n",
    "\t('u', '1'): ('_', 'L', 'v'),\n",
    "\t('u', '_'): ('_', 'L', 'f'),\n",
    "  # Move to the start.\n",
    "\t('v', '0'): ('0', 'L', 'v'),\n",
    "\t('v', '1'): ('1', 'L', 'v'),\n",
    "\t('v', '_'): ('_', 'R', 's'),\n",
    "}"
   ]
  },
  {
   "cell_type": "code",
   "execution_count": 41,
   "metadata": {},
   "outputs": [
    {
     "name": "stdout",
     "output_type": "stream",
     "text": [
      "s000111_\n",
      "_t00111_\n",
      "_0t0111_\n",
      "_00t111_\n",
      "_001t11_\n",
      "_0011t1_\n",
      "_00111t_\n",
      "_0011u1_\n",
      "_001v1__\n",
      "_00v11__\n",
      "_0v011__\n",
      "_v0011__\n",
      "v_0011__\n",
      "_s0011__\n",
      "__t011__\n",
      "__0t11__\n",
      "__01t1__\n",
      "__011t__\n",
      "__01u1__\n",
      "__0v1___\n",
      "__v01___\n",
      "_v_01___\n",
      "__s01___\n",
      "___t1___\n",
      "___1t___\n",
      "___u1___\n",
      "__v_____\n",
      "___s____\n",
      "____a___\n",
      "Input Length: 6, Steps: 28\n"
     ]
    },
    {
     "data": {
      "text/plain": [
       "True"
      ]
     },
     "execution_count": 41,
     "metadata": {},
     "output_type": "execute_result"
    }
   ],
   "source": [
    "# Try an example.\n",
    "run_turing_machine(table, '000111', 's')"
   ]
  },
  {
   "cell_type": "code",
   "execution_count": null,
   "metadata": {},
   "outputs": [],
   "source": []
  },
  {
   "cell_type": "code",
   "execution_count": null,
   "metadata": {},
   "outputs": [],
   "source": []
  }
 ],
 "metadata": {
  "kernelspec": {
   "display_name": "Python 3",
   "language": "python",
   "name": "python3"
  },
  "language_info": {
   "codemirror_mode": {
    "name": "ipython",
    "version": 3
   },
   "file_extension": ".py",
   "mimetype": "text/x-python",
   "name": "python",
   "nbconvert_exporter": "python",
   "pygments_lexer": "ipython3",
   "version": "3.10.10"
  },
  "orig_nbformat": 4,
  "vscode": {
   "interpreter": {
    "hash": "bd385fe162c5ca0c84973b7dd5c518456272446b2b64e67c2a69f949ca7a1754"
   }
  }
 },
 "nbformat": 4,
 "nbformat_minor": 2
}
