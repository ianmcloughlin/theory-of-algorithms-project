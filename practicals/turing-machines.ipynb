{
 "cells": [
  {
   "cell_type": "code",
   "execution_count": 2,
   "metadata": {},
   "outputs": [
    {
     "data": {
      "text/plain": [
       "['0', '0', '0', '1', '1', '1']"
      ]
     },
     "execution_count": 2,
     "metadata": {},
     "output_type": "execute_result"
    }
   ],
   "source": [
    "# The Turing Machine tape.\n",
    "tape = list(\"000111\")\n",
    "\n",
    "# Show the tape as it now is.\n",
    "tape"
   ]
  },
  {
   "cell_type": "code",
   "execution_count": 4,
   "metadata": {},
   "outputs": [
    {
     "data": {
      "text/plain": [
       "0"
      ]
     },
     "execution_count": 4,
     "metadata": {},
     "output_type": "execute_result"
    }
   ],
   "source": [
    "# Position on the tape.\n",
    "pos = 0\n",
    "\n",
    "# Show the value.\n",
    "pos"
   ]
  },
  {
   "cell_type": "code",
   "execution_count": 5,
   "metadata": {},
   "outputs": [
    {
     "name": "stdout",
     "output_type": "stream",
     "text": [
      "\"000111\", 0\n"
     ]
    }
   ],
   "source": [
    "# Show tape and position.\n",
    "print(f'\"{\"\".join(tape)}\", {pos}')"
   ]
  },
  {
   "cell_type": "code",
   "execution_count": 6,
   "metadata": {},
   "outputs": [],
   "source": [
    "# Moving position left on the tape.\n",
    "def move_L():\n",
    "  global tape, pos\n",
    "  if pos > 0:\n",
    "    pos = pos - 1\n",
    "  else:\n",
    "    tape = [' '] + tape"
   ]
  },
  {
   "cell_type": "code",
   "execution_count": 7,
   "metadata": {},
   "outputs": [],
   "source": [
    "move_L()"
   ]
  },
  {
   "cell_type": "code",
   "execution_count": 8,
   "metadata": {},
   "outputs": [
    {
     "name": "stdout",
     "output_type": "stream",
     "text": [
      "\" 000111\", 0\n"
     ]
    }
   ],
   "source": [
    "# Show tape and position.\n",
    "print(f'\"{\"\".join(tape)}\", {pos}')"
   ]
  },
  {
   "cell_type": "code",
   "execution_count": 11,
   "metadata": {},
   "outputs": [],
   "source": [
    "# Moving position right on the tape.\n",
    "def move_R():\n",
    "  global tape, pos\n",
    "  pos = pos + 1\n",
    "  if pos >= len(tape):\n",
    "    tape = tape + [' ']"
   ]
  },
  {
   "cell_type": "code",
   "execution_count": 24,
   "metadata": {},
   "outputs": [],
   "source": [
    "move_R()"
   ]
  },
  {
   "cell_type": "code",
   "execution_count": 25,
   "metadata": {},
   "outputs": [
    {
     "name": "stdout",
     "output_type": "stream",
     "text": [
      "\" 000111 \", 7\n"
     ]
    }
   ],
   "source": [
    "# Show tape and position.\n",
    "print(f'\"{\"\".join(tape)}\", {pos}')"
   ]
  },
  {
   "cell_type": "code",
   "execution_count": 26,
   "metadata": {},
   "outputs": [],
   "source": [
    "# Helps us to make code look nicer.\n",
    "L, R = 'L', 'R'\n",
    "\n",
    "# States.\n",
    "q0, q1, q2, q3 = 'q0', 'q1', 'q2', 'q3'\n",
    "\n",
    "# Accept and fail states.\n",
    "qa, qf = 'qa', 'qf'"
   ]
  },
  {
   "cell_type": "code",
   "execution_count": 28,
   "metadata": {},
   "outputs": [],
   "source": [
    "# A Turing Machine State Table Example.\n",
    "table = {\n",
    "  (q0, '0'): ('0', R, q0),\n",
    "  (q0, '1'): ('1', R, q1),\n",
    "  (q0, ' '): (' ', R, qa),\n",
    "  (q1, '0'): ('0', R, q0),\n",
    "  (q1, '1'): ('1', R, q1),\n",
    "  (q1, ' '): (' ', R, qf),\n",
    "}"
   ]
  },
  {
   "cell_type": "code",
   "execution_count": 29,
   "metadata": {},
   "outputs": [
    {
     "data": {
      "text/plain": [
       "'q0'"
      ]
     },
     "execution_count": 29,
     "metadata": {},
     "output_type": "execute_result"
    }
   ],
   "source": [
    "# Start state.\n",
    "state = q0\n",
    "\n",
    "# Show state.\n",
    "state"
   ]
  },
  {
   "cell_type": "code",
   "execution_count": 30,
   "metadata": {},
   "outputs": [
    {
     "data": {
      "text/plain": [
       "' '"
      ]
     },
     "execution_count": 30,
     "metadata": {},
     "output_type": "execute_result"
    }
   ],
   "source": [
    "# Symbol in current cell on tape.\n",
    "tape[pos]"
   ]
  },
  {
   "cell_type": "code",
   "execution_count": 33,
   "metadata": {},
   "outputs": [
    {
     "data": {
      "text/plain": [
       "(' ', 'R', 'qa')"
      ]
     },
     "execution_count": 33,
     "metadata": {},
     "output_type": "execute_result"
    }
   ],
   "source": [
    "table[(state, tape[pos])]"
   ]
  },
  {
   "cell_type": "code",
   "execution_count": 36,
   "metadata": {},
   "outputs": [],
   "source": [
    "def run_turing_machine(table, tape, state):\n",
    "  # Strings are immutable.\n",
    "  tape = list(tape)\n",
    "  # Start at position 0.\n",
    "  pos = 0\n",
    "  # Keep looping unless we enter qa or qf.\n",
    "  while state not in {qa, qf}:\n",
    "    # Look up the table for current state/symbol.\n",
    "    overwrite, move, nextstate = table[(state, tape[pos])]\n",
    "    # Overwrite the current cell.\n",
    "    tape[pos] = overwrite\n",
    "    # Move in the correct direction.\n",
    "    if move == L:\n",
    "      if pos > 0:\n",
    "        pos = pos - 1\n",
    "      else:\n",
    "        tape = [' '] + tape\n",
    "    else:\n",
    "        pos = pos + 1\n",
    "        if pos >= len(tape):\n",
    "          tape = tape + [' ']\n",
    "    # Change to next state.\n",
    "    state = nextstate\n",
    "  # Check the state.\n",
    "  if state == qa:\n",
    "    return True\n",
    "  else:\n",
    "    return False\n"
   ]
  },
  {
   "cell_type": "code",
   "execution_count": 46,
   "metadata": {},
   "outputs": [
    {
     "data": {
      "text/plain": [
       "False"
      ]
     },
     "execution_count": 46,
     "metadata": {},
     "output_type": "execute_result"
    }
   ],
   "source": [
    "# Try an example.\n",
    "run_turing_machine(table, '000111', q0)"
   ]
  },
  {
   "cell_type": "code",
   "execution_count": null,
   "metadata": {},
   "outputs": [],
   "source": []
  }
 ],
 "metadata": {
  "kernelspec": {
   "display_name": "Python 3",
   "language": "python",
   "name": "python3"
  },
  "language_info": {
   "codemirror_mode": {
    "name": "ipython",
    "version": 3
   },
   "file_extension": ".py",
   "mimetype": "text/x-python",
   "name": "python",
   "nbconvert_exporter": "python",
   "pygments_lexer": "ipython3",
   "version": "3.10.10"
  },
  "orig_nbformat": 4,
  "vscode": {
   "interpreter": {
    "hash": "bd385fe162c5ca0c84973b7dd5c518456272446b2b64e67c2a69f949ca7a1754"
   }
  }
 },
 "nbformat": 4,
 "nbformat_minor": 2
}
