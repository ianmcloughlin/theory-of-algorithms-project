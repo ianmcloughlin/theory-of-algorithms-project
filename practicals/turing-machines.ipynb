{
 "cells": [
  {
   "attachments": {},
   "cell_type": "markdown",
   "metadata": {},
   "source": [
    "# Turing Machine Simulations\n",
    "\n",
    "***"
   ]
  },
  {
   "cell_type": "code",
   "execution_count": 1,
   "metadata": {},
   "outputs": [
    {
     "data": {
      "text/plain": [
       "['0', '0', '0', '1', '1', '1']"
      ]
     },
     "execution_count": 1,
     "metadata": {},
     "output_type": "execute_result"
    }
   ],
   "source": [
    "# Use a list as the tape - strings are immutable.\n",
    "tape = list(\"000111\")\n",
    "\n",
    "# Show the tape as it now is.\n",
    "tape"
   ]
  },
  {
   "cell_type": "code",
   "execution_count": 2,
   "metadata": {},
   "outputs": [
    {
     "data": {
      "text/plain": [
       "0"
      ]
     },
     "execution_count": 2,
     "metadata": {},
     "output_type": "execute_result"
    }
   ],
   "source": [
    "# Position on the tape.\n",
    "pos = 0\n",
    "\n",
    "# Show the value.\n",
    "pos"
   ]
  },
  {
   "cell_type": "code",
   "execution_count": 3,
   "metadata": {},
   "outputs": [
    {
     "name": "stdout",
     "output_type": "stream",
     "text": [
      "\"000111\", 0\n"
     ]
    }
   ],
   "source": [
    "# Show tape and position.\n",
    "print(f'\"{\"\".join(tape)}\", {pos}')"
   ]
  },
  {
   "cell_type": "code",
   "execution_count": 4,
   "metadata": {},
   "outputs": [],
   "source": [
    "# To move position left on the tape.\n",
    "def move_L():\n",
    "  global tape, pos\n",
    "  if pos > 0:\n",
    "    pos = pos - 1\n",
    "  else:\n",
    "    tape = ['_'] + tape"
   ]
  },
  {
   "cell_type": "code",
   "execution_count": 5,
   "metadata": {},
   "outputs": [],
   "source": [
    "# Test function.\n",
    "move_L()"
   ]
  },
  {
   "cell_type": "code",
   "execution_count": 6,
   "metadata": {},
   "outputs": [
    {
     "name": "stdout",
     "output_type": "stream",
     "text": [
      "\"_000111\", 0\n"
     ]
    }
   ],
   "source": [
    "# Show tape and positio after moving left.\n",
    "print(f'\"{\"\".join(tape)}\", {pos}')"
   ]
  },
  {
   "cell_type": "code",
   "execution_count": 7,
   "metadata": {},
   "outputs": [],
   "source": [
    "# To move position right on the tape.\n",
    "def move_R():\n",
    "  global tape, pos\n",
    "  pos = pos + 1\n",
    "  if pos >= len(tape):\n",
    "    tape = tape + ['_']"
   ]
  },
  {
   "cell_type": "code",
   "execution_count": 8,
   "metadata": {},
   "outputs": [],
   "source": [
    "# Try it out.\n",
    "move_R()"
   ]
  },
  {
   "cell_type": "code",
   "execution_count": 9,
   "metadata": {},
   "outputs": [
    {
     "name": "stdout",
     "output_type": "stream",
     "text": [
      "\"_000111\", 1\n"
     ]
    }
   ],
   "source": [
    "# Show tape and position.\n",
    "print(f'\"{\"\".join(tape)}\", {pos}')"
   ]
  },
  {
   "cell_type": "code",
   "execution_count": 10,
   "metadata": {},
   "outputs": [],
   "source": [
    "# A Turing Machine State Table Example.\n",
    "table = {\n",
    "  ('s', '0'): ('0', 'R', 's'),\n",
    "  ('s', '1'): ('1', 'R', 't'),\n",
    "  ('s', '_'): ('_', 'R', 'a'),\n",
    "  ('t', '0'): ('0', 'R', 't'),\n",
    "  ('t', '1'): ('1', 'R', 's'),\n",
    "  ('t', '_'): ('_', 'R', 'f'),\n",
    "}"
   ]
  },
  {
   "cell_type": "code",
   "execution_count": 11,
   "metadata": {},
   "outputs": [
    {
     "data": {
      "text/plain": [
       "'s'"
      ]
     },
     "execution_count": 11,
     "metadata": {},
     "output_type": "execute_result"
    }
   ],
   "source": [
    "# Start state.\n",
    "state = 's'\n",
    "\n",
    "# Show state.\n",
    "state"
   ]
  },
  {
   "cell_type": "code",
   "execution_count": 12,
   "metadata": {},
   "outputs": [
    {
     "data": {
      "text/plain": [
       "'0'"
      ]
     },
     "execution_count": 12,
     "metadata": {},
     "output_type": "execute_result"
    }
   ],
   "source": [
    "# Symbol in current cell on tape.\n",
    "tape[pos]"
   ]
  },
  {
   "cell_type": "code",
   "execution_count": 13,
   "metadata": {},
   "outputs": [
    {
     "data": {
      "text/plain": [
       "('0', 'R', 's')"
      ]
     },
     "execution_count": 13,
     "metadata": {},
     "output_type": "execute_result"
    }
   ],
   "source": [
    "# Looking up the table using current state and symbol in currecr cell.\n",
    "table[(state, tape[pos])]"
   ]
  },
  {
   "cell_type": "code",
   "execution_count": 14,
   "metadata": {},
   "outputs": [],
   "source": [
    "# A function to run an input on a given table.\n",
    "# table is a dictionary as above.\n",
    "# tape is a string containing the input.\n",
    "# state is the start state, as listed in table.\n",
    "def run_turing_machine(table, tape, state):\n",
    "  # Keep track of the length of the input.\n",
    "  len_tape = len(tape)\n",
    "  # Keep track of the number of times we look up the state table.\n",
    "  counter = 0\n",
    "  # Strings are immutable.\n",
    "  tape = list(tape)\n",
    "  # Check for empty string.\n",
    "  tape = tape + ['_']\n",
    "  # Start at position 0.\n",
    "  pos = 0\n",
    "  # Show tape and state.\n",
    "  output = ''.join(tape)\n",
    "  output = output[:pos] + state + output[pos:]\n",
    "  print(output)\n",
    "  # Keep looping unless we enter qa or qf.\n",
    "  while state not in {'a', 'f'}:\n",
    "    # Add one to the counter.\n",
    "    counter = counter + 1\n",
    "    # Look up the table for current state/symbol.\n",
    "    overwrite, move, nextstate = table[(state, tape[pos])]\n",
    "    # Overwrite the current cell.\n",
    "    tape[pos] = overwrite\n",
    "    # Move in the correct direction.\n",
    "    if move == 'L':\n",
    "      if pos > 0:\n",
    "        pos = pos - 1\n",
    "      else:\n",
    "        tape = ['_'] + tape\n",
    "    else:\n",
    "      pos = pos + 1\n",
    "      if pos >= len(tape):\n",
    "        tape = tape + ['_']\n",
    "    # Change to next state.\n",
    "    state = nextstate\n",
    "    # Show tape and state.\n",
    "    output = ''.join(tape)\n",
    "    output = output[:pos] + state + output[pos:]\n",
    "    print(output)\n",
    "  # Show length of input and number of steps.\n",
    "  print(f'Input Length: {len_tape}, Steps: {counter}')\n",
    "  # Check the state.\n",
    "  if state == 'a':\n",
    "    return True\n",
    "  else:\n",
    "    return False\n"
   ]
  },
  {
   "cell_type": "code",
   "execution_count": 15,
   "metadata": {},
   "outputs": [
    {
     "name": "stdout",
     "output_type": "stream",
     "text": [
      "s10101_\n",
      "1t0101_\n",
      "10t101_\n",
      "101s01_\n",
      "1010s1_\n",
      "10101t_\n",
      "10101_f_\n",
      "Input Length: 5, Steps: 6\n"
     ]
    },
    {
     "data": {
      "text/plain": [
       "False"
      ]
     },
     "execution_count": 15,
     "metadata": {},
     "output_type": "execute_result"
    }
   ],
   "source": [
    "# Try an example.\n",
    "run_turing_machine(table, '10101', 's')"
   ]
  },
  {
   "cell_type": "markdown",
   "metadata": {},
   "source": [
    "## More Complex Example\n",
    "\n",
    "***"
   ]
  },
  {
   "attachments": {},
   "cell_type": "markdown",
   "metadata": {},
   "source": [
    "$A^* = \\{0,1\\}^* = \\{\\epsilon, 0, 1, 00, 01, \\ldots \\}$\n",
    "\n",
    "$L = \\{0^k 1^k | k \\in \\mathbb{N}_0 \\}$\n",
    "\n",
    "$L = \\{\\epsilon, 01, 0011, 000111, \\ldots \\}$"
   ]
  },
  {
   "cell_type": "code",
   "execution_count": 16,
   "metadata": {},
   "outputs": [],
   "source": [
    "# Turing Machine to recognize L.\n",
    "table = {\n",
    "\t# Delete a 0 at the front\n",
    "\t('s', '0'): ('_', 'R', 't'),\n",
    "\t('s', '1'): ('1', 'R', 'f'),\n",
    "\t('s', '_'): ('_', 'R', 'a'),\n",
    "  # Move to the end.\n",
    "\t('t', '0'): ('0', 'R', 't'),\n",
    "\t('t', '1'): ('1', 'R', 't'),\n",
    "\t('t', '_'): ('_', 'L', 'u'),\n",
    "  # Delete a 1 at the end.\n",
    "\t('u', '0'): ('0', 'L', 'f'),\n",
    "\t('u', '1'): ('_', 'L', 'v'),\n",
    "\t('u', '_'): ('_', 'L', 'f'),\n",
    "  # Move to the start.\n",
    "\t('v', '0'): ('0', 'L', 'v'),\n",
    "\t('v', '1'): ('1', 'L', 'v'),\n",
    "\t('v', '_'): ('_', 'R', 's'),\n",
    "}"
   ]
  },
  {
   "cell_type": "code",
   "execution_count": 17,
   "metadata": {},
   "outputs": [
    {
     "name": "stdout",
     "output_type": "stream",
     "text": [
      "s00001111_\n",
      "_t0001111_\n",
      "_0t001111_\n",
      "_00t01111_\n",
      "_000t1111_\n",
      "_0001t111_\n",
      "_00011t11_\n",
      "_000111t1_\n",
      "_0001111t_\n",
      "_000111u1_\n",
      "_00011v1__\n",
      "_0001v11__\n",
      "_000v111__\n",
      "_00v0111__\n",
      "_0v00111__\n",
      "_v000111__\n",
      "v_000111__\n",
      "_s000111__\n",
      "__t00111__\n",
      "__0t0111__\n",
      "__00t111__\n",
      "__001t11__\n",
      "__0011t1__\n",
      "__00111t__\n",
      "__0011u1__\n",
      "__001v1___\n",
      "__00v11___\n",
      "__0v011___\n",
      "__v0011___\n",
      "_v_0011___\n",
      "__s0011___\n",
      "___t011___\n",
      "___0t11___\n",
      "___01t1___\n",
      "___011t___\n",
      "___01u1___\n",
      "___0v1____\n",
      "___v01____\n",
      "__v_01____\n",
      "___s01____\n",
      "____t1____\n",
      "____1t____\n",
      "____u1____\n",
      "___v______\n",
      "____s_____\n",
      "_____a____\n",
      "Input Length: 8, Steps: 45\n"
     ]
    },
    {
     "data": {
      "text/plain": [
       "True"
      ]
     },
     "execution_count": 17,
     "metadata": {},
     "output_type": "execute_result"
    }
   ],
   "source": [
    "# Try an example.\n",
    "run_turing_machine(table, '00001111', 's')"
   ]
  },
  {
   "attachments": {},
   "cell_type": "markdown",
   "metadata": {},
   "source": [
    "## Counting the Steps\n",
    "\n",
    "***"
   ]
  },
  {
   "attachments": {},
   "cell_type": "markdown",
   "metadata": {},
   "source": [
    "$w = 00001111$\n",
    "\n",
    "$|w| = 8$\n",
    "\n",
    "|State|Steps|\n",
    "|-----|-----|\n",
    "|$s$  | 1 steps, 1 steps, 1 steps, 1 steps, 1 steps|\n",
    "|$t$  | 8 steps, 6 steps, 4 steps, 2 steps|\n",
    "|$u$  | 1 steps, 1 steps, 1 steps, 1 steps|\n",
    "|$v$  | 7 steps, 5 steps, 3 steps, 1 steps|\n",
    "\n",
    "$w = 000111$\n",
    "\n",
    "$|w| = 6$\n",
    "\n",
    "|State|Steps|\n",
    "|-----|-----|\n",
    "|$s$  | 1 steps, 1 steps, 1 steps, 1 steps|\n",
    "|$t$  | 6 steps, 4 steps, 2 steps|\n",
    "|$u$  | 1 steps, 1 steps, 1 steps|\n",
    "|$v$  | 5 steps, 3 steps, 1 steps|"
   ]
  },
  {
   "attachments": {},
   "cell_type": "markdown",
   "metadata": {},
   "source": [
    "Total steps = $\\left(\\frac{n}{2} + 1 \\right)_s + \\left(\\sum_{i=1}^\\frac{n}{2} 2i \\right)_t + \\left(\\frac{n}{2}\\right)_u + \\left(\\sum_{i=1}^\\frac{n}{2} (2i-1) \\right)_v $\n",
    "\n",
    "$= n + 1 + \\sum_{i=1}^\\frac{n}{2} 2i + \\sum_{i=1}^\\frac{n}{2} (2i-1)$\n",
    "\n",
    "$= n + 1 + \\sum_{i=1}^\\frac{n}{2} 2i - \\frac{n}{2} + \\sum_{i=1}^\\frac{n}{2} 2i$\n",
    "\n",
    "$= \\frac{n}{2} + 1 + 2 \\sum_{i=1}^\\frac{n}{2} 2i$\n",
    "\n",
    "$= \\frac{n}{2} + 1 + 4 \\sum_{i=1}^\\frac{n}{2} i$"
   ]
  },
  {
   "attachments": {},
   "cell_type": "markdown",
   "metadata": {},
   "source": [
    "https://oeis.org/search?q=0%2C1%2C3%2C6%2C10%2C15%2C21&sort=&language=english&go=Search"
   ]
  },
  {
   "attachments": {},
   "cell_type": "markdown",
   "metadata": {},
   "source": [
    "$\\sum_{i=1}^\\frac{n}{2} = \\frac{1}{2} (\\frac{n}{2})(\\frac{n}{2} + 1) = \\frac{n}{4}(\\frac{n}{2} + 1)$"
   ]
  },
  {
   "attachments": {},
   "cell_type": "markdown",
   "metadata": {},
   "source": [
    "So, total steps $ = \\frac{n}{2} + 1 + 4(\\frac{n}{4}(\\frac{n}{2} + 1))$\n",
    "\n",
    "$ = \\frac{n}{2} + 1 + \\frac{1}{2} n^2 + n$\n",
    "\n",
    "$ = \\frac{1}{2} n^2 + \\frac{3}{2} n + 1$"
   ]
  },
  {
   "cell_type": "markdown",
   "metadata": {},
   "source": []
  }
 ],
 "metadata": {
  "kernelspec": {
   "display_name": "Python 3",
   "language": "python",
   "name": "python3"
  },
  "language_info": {
   "codemirror_mode": {
    "name": "ipython",
    "version": 3
   },
   "file_extension": ".py",
   "mimetype": "text/x-python",
   "name": "python",
   "nbconvert_exporter": "python",
   "pygments_lexer": "ipython3",
   "version": "3.10.10"
  },
  "orig_nbformat": 4,
  "vscode": {
   "interpreter": {
    "hash": "bd385fe162c5ca0c84973b7dd5c518456272446b2b64e67c2a69f949ca7a1754"
   }
  }
 },
 "nbformat": 4,
 "nbformat_minor": 2
}
